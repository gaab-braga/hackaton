{
 "cells": [
  {
   "cell_type": "code",
   "execution_count": null,
   "metadata": {},
   "outputs": [],
   "source": [
    "# Importar bibliotecas\n",
    "import numpy as np\n",
    "from tensorflow.keras.models import Sequential\n",
    "from tensorflow.keras.layers import Dense\n",
    "from sklearn.preprocessing import StandardScaler"
   ]
  },
  {
   "cell_type": "code",
   "execution_count": null,
   "metadata": {},
   "outputs": [],
   "source": [
    "# 1. Construção do autoencoder\n",
    "def build_autoencoder(input_dim):\n",
    "    model = Sequential([\n",
    "        Dense(16, activation='relu', input_shape=(input_dim,)),\n",
    "        Dense(8, activation='relu'),\n",
    "        Dense(16, activation='relu'),\n",
    "        Dense(input_dim, activation='sigmoid')\n",
    "    ])\n",
    "    model.compile(optimizer='adam', loss='mse')\n",
    "    return model\n",
    "\n",
    "# 2. Treinamento do autoencoder\n",
    "def train_autoencoder(data):\n",
    "    scaler = StandardScaler()\n",
    "    data_scaled = scaler.fit_transform(data)\n",
    "    autoencoder = build_autoencoder(data.shape[1])\n",
    "    autoencoder.fit(data_scaled, data_scaled, epochs=50, batch_size=32, validation_split=0.2)\n",
    "    return autoencoder, scaler"
   ]
  },
  {
   "cell_type": "code",
   "execution_count": null,
   "metadata": {},
   "outputs": [],
   "source": [
    "# Testando com dados simulados\n",
    "data = np.random.normal(0, 1, (1000, 20))\n",
    "autoencoder, scaler = train_autoencoder(data)\n",
    "print(\"Autoencoder treinado com sucesso!\")\n"
   ]
  }
 ],
 "metadata": {
  "language_info": {
   "name": "python"
  }
 },
 "nbformat": 4,
 "nbformat_minor": 2
}
