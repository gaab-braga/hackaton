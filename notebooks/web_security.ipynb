{
 "cells": [
  {
   "cell_type": "code",
   "execution_count": null,
   "metadata": {},
   "outputs": [],
   "source": [
    "import pandas as pd\n",
    "from pycaret.classification import *"
   ]
  },
  {
   "cell_type": "code",
   "execution_count": null,
   "metadata": {},
   "outputs": [],
   "source": [
    "# 1. Carregando os dados\n",
    "data = pd.DataFrame({\n",
    "    'request': [\"SELECT * FROM users WHERE id=1;\", \"<script>alert('XSS')</script>\", \"GET /home HTTP/1.1\"],\n",
    "    'is_malicious': [1, 1, 0]\n",
    "})"
   ]
  },
  {
   "cell_type": "code",
   "execution_count": null,
   "metadata": {},
   "outputs": [],
   "source": [
    "# 2. Configurando o PyCaret\n",
    "exp = setup(data, target='is_malicious', session_id=123)"
   ]
  },
  {
   "cell_type": "code",
   "execution_count": null,
   "metadata": {},
   "outputs": [],
   "source": [
    "# 3. Treinando o melhor modelo\n",
    "best_model = compare_models()"
   ]
  },
  {
   "cell_type": "code",
   "execution_count": null,
   "metadata": {},
   "outputs": [],
   "source": [
    "# 4. Fazendo previsões\n",
    "new_data = pd.DataFrame({'request': [\"GET /admin HTTP/1.1\", \"SELECT password FROM users WHERE id=1;\"]})\n",
    "predictions = predict_model(best_model, data=new_data)\n",
    "print(predictions)"
   ]
  }
 ],
 "metadata": {
  "language_info": {
   "name": "python"
  }
 },
 "nbformat": 4,
 "nbformat_minor": 2
}
