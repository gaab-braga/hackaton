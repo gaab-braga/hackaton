{
 "cells": [
  {
   "cell_type": "code",
   "execution_count": null,
   "metadata": {},
   "outputs": [],
   "source": [
    "# Importar bibliotecas necessárias\n",
    "from Crypto.Cipher import AES, PKCS1_OAEP\n",
    "from Crypto.PublicKey import RSA\n",
    "from Crypto.Random import get_random_bytes\n",
    "import base64"
   ]
  },
  {
   "cell_type": "code",
   "execution_count": null,
   "metadata": {},
   "outputs": [],
   "source": [
    "\n",
    "# 1. Função para cifrar com AES\n",
    "def aes_encrypt(data):\n",
    "    key = get_random_bytes(16)\n",
    "    cipher = AES.new(key, AES.MODE_EAX)\n",
    "    ciphertext, tag = cipher.encrypt_and_digest(data.encode())\n",
    "    return base64.b64encode(ciphertext).decode(), key, cipher.nonce\n",
    "\n",
    "# 2. Função para decifrar com AES\n",
    "def aes_decrypt(ciphertext, key, nonce):\n",
    "    cipher = AES.new(key, AES.MODE_EAX, nonce=nonce)\n",
    "    plaintext = cipher.decrypt(base64.b64decode(ciphertext))\n",
    "    return plaintext.decode()"
   ]
  },
  {
   "cell_type": "code",
   "execution_count": null,
   "metadata": {},
   "outputs": [],
   "source": [
    "# Testando AES\n",
    "ciphertext, key, nonce = aes_encrypt(\"Texto para teste\")\n",
    "print(\"Cifrado:\", ciphertext)\n",
    "print(\"Decifrado:\", aes_decrypt(ciphertext, key, nonce))"
   ]
  }
 ],
 "metadata": {
  "language_info": {
   "name": "python"
  }
 },
 "nbformat": 4,
 "nbformat_minor": 2
}
